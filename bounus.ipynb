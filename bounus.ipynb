import timeit
import statistics

class LongestCommonSubsequenceDP:
    def lcs(self, s1, s2):
        m = len(s1)
        n = len(s2)
        dp = [[0] * (n + 1) for _ in range(m + 1)]

        for i in range(1, m + 1):
            for j in range(1, n + 1):
                if s1[i - 1] == s2[j - 1]:
                    dp[i][j] = dp[i - 1][j - 1] + 1
                else:
                    dp[i][j] = max(dp[i - 1][j], dp[i][j - 1])

        lcs = ''
        i, j = m, n
        while i > 0 and j > 0:
            if s1[i - 1] == s2[j - 1]:
                lcs = s1[i - 1] + lcs
                i -= 1
                j -= 1
            elif dp[i - 1][j] > dp[i][j - 1]:
                i -= 1
            else:
                j -= 1

        return lcs

class LongestCommonSubsequence2RowsDP:
    def lcs(self, s1, s2):
        m = len(s1)
        n = len(s2)
        dp = [[0] * (n + 1) for _ in range(2)]

        for i in range(1, m + 1):
            for j in range(1, n + 1):
                if s1[i - 1] == s2[j - 1]:
                    dp[i % 2][j] = dp[(i - 1) % 2][j - 1] + 1
                else:
                    dp[i % 2][j] = max(dp[(i - 1) % 2][j], dp[i % 2][j - 1])

        lcs = ''
        i, j = m, n
        while i > 0 and j > 0:
            if s1[i - 1] == s2[j - 1]:
                lcs = s1[i - 1] + lcs
                i -= 1
                j -= 1
            elif dp[(i - 1) % 2][j] > dp[i % 2][j - 1]:
                i -= 1
            else:
                j -= 1

        return lcs

class LongestCommonSubsequenceMemoDP:
    def __init__(self):
        self.memo = {}

    def lcs(self, s1, s2):
        m = len(s1)
        n = len(s2)
        dp = [[""] * (n + 1) for _ in range(m + 1)]

        for i in range(1, m + 1):
            for j in range(1, n + 1):
                if s1[i - 1] == s2[j - 1]:
                    dp[i][j] = dp[i - 1][j - 1] + s1[i - 1]
                else:
                    dp[i][j] = dp[i - 1][j] if len(dp[i - 1][j]) > len(dp[i][j - 1]) else dp[i][j - 1]

        return dp[m][n]

# Define input pairs
input_pairs = [
    ("abcdefghijklmnopqrstuvwxyz" * 10, "zyxwvutsrqponmlkjihgfedcba" * 10),  # Pair 1
    ("abcdef", "abdf"),  # Pair 2
    ("abcdef", "ghijkl"),  # Pair 3
    ("abcde" * 10, "bcdea" * 10),  # Pair 4
    ("abcdefghij" * 10, "abcdefghii" * 10),  # Pair 5
    ("abcd" * 1000, "abcd" * 1000)  # Pair 6
]

# Run each algorithm nine times on each pair of inputs and calculate the median running time
algorithms = [LongestCommonSubsequenceDP(), LongestCommonSubsequence2RowsDP(), LongestCommonSubsequenceMemoDP()]
results = []

for algorithm in algorithms:
    algorithm_results = []
    for s1, s2 in input_pairs:
        times = []
        for _ in range(9):
            start_time = timeit.default_timer()
            algorithm.lcs(s1, s2)
            end_time = timeit.default_timer()
            times.append(end_time - start_time)
        median_time = statistics.median(times)
        algorithm_results.append(median_time)
    results.append(algorithm_results)

# Print results
for i, algorithm in enumerate(["Original (DP)", "2Rows (DP)", "Memo (DP)"]):
    print(f"{algorithm} Version:")
    for j, time in enumerate(results[i]):
        print(f"Pair {j + 1}: Median Running Time: {time:.6f} seconds")
